{
 "cells": [
  {
   "cell_type": "code",
   "outputs": [],
   "source": [
    "import tensorflow as tf"
   ],
   "metadata": {
    "collapsed": false,
    "is_executing": true
   },
   "id": "12054a5e340d2fb8"
  },
  {
   "cell_type": "code",
   "outputs": [],
   "source": [],
   "metadata": {
    "collapsed": false
   },
   "id": "fc77d5c68da14920"
  }
 ],
 "metadata": {},
 "nbformat": 4,
 "nbformat_minor": 5
}
